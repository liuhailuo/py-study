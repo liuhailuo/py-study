{
 "cells": [
  {
   "cell_type": "code",
   "execution_count": 4,
   "metadata": {},
   "outputs": [],
   "source": [
    "class Coffee(object):\n",
    "    water = 0\n",
    "    milk = 0\n",
    "    def addWater(self):\n",
    "        self.hot_water = 1\n",
    "\n",
    "coffee1 = Coffee()\n",
    "    "
   ]
  },
  {
   "cell_type": "code",
   "execution_count": 5,
   "metadata": {},
   "outputs": [
    {
     "data": {
      "text/plain": [
       "0"
      ]
     },
     "execution_count": 5,
     "metadata": {},
     "output_type": "execute_result"
    }
   ],
   "source": [
    "coffee1.milk"
   ]
  },
  {
   "cell_type": "code",
   "execution_count": 6,
   "metadata": {},
   "outputs": [],
   "source": [
    "coffee1.addWater()"
   ]
  },
  {
   "cell_type": "code",
   "execution_count": null,
   "metadata": {},
   "outputs": [
    {
     "name": "stdout",
     "output_type": "stream",
     "text": [
      "<__main__.Coffee object at 0x00000209C4637530>\n"
     ]
    }
   ],
   "source": [
    "import pprint\n",
    "import json\n"
   ]
  },
  {
   "cell_type": "code",
   "execution_count": null,
   "metadata": {},
   "outputs": [
    {
     "data": {
      "text/plain": [
       "(__main__.E, __main__.A, __main__.D, __main__.B, object)"
      ]
     },
     "execution_count": 10,
     "metadata": {},
     "output_type": "execute_result"
    }
   ],
   "source": [
    "class A(object):\n",
    "    water = 1\n",
    "class B():\n",
    "    water = 2\n",
    "class C(A,B):\n",
    "    water = 3\n",
    "class D(B):\n",
    "    water = 4 \n",
    "class E(A,D):\n",
    "    water = 5\n",
    "    A.water\n",
    "E.__mro__\n",
    "\n",
    "\n"
   ]
  },
  {
   "cell_type": "code",
   "execution_count": null,
   "metadata": {},
   "outputs": [
    {
     "name": "stdout",
     "output_type": "stream",
     "text": [
      "func2\n"
     ]
    }
   ],
   "source": [
    "class Test:\n",
    "    # @classmethod\n",
    "    # def func(cls):\n",
    "    #     print(\"func\")\n",
    "    #     pass\n",
    "    \n",
    "    @staticmethod\n",
    "    def func1():\n",
    "        print(\"func1\")\n",
    "        pass\n",
    "\n",
    "    @staticmethod\n",
    "    def func2():\n",
    "        print(\"func2\")\n",
    "        pass\n"
   ]
  },
  {
   "cell_type": "code",
   "execution_count": 13,
   "metadata": {},
   "outputs": [
    {
     "name": "stdout",
     "output_type": "stream",
     "text": [
      "func\n"
     ]
    }
   ],
   "source": [
    "Test.func()"
   ]
  },
  {
   "cell_type": "code",
   "execution_count": 31,
   "metadata": {},
   "outputs": [
    {
     "name": "stdout",
     "output_type": "stream",
     "text": [
      "func2\n"
     ]
    }
   ],
   "source": [
    "\n",
    "# 调用 func2 方法\n",
    "Test.func2()\n"
   ]
  },
  {
   "cell_type": "code",
   "execution_count": 38,
   "metadata": {},
   "outputs": [],
   "source": [
    "class MyClass:\n",
    "    def __init__(self, value):\n",
    "        self.value = value  # 实例属性\n",
    "\n",
    "    def print_value(self):\n",
    "        print(self.value)  # 通过 self 访问实例属性"
   ]
  },
  {
   "cell_type": "code",
   "execution_count": 39,
   "metadata": {},
   "outputs": [
    {
     "name": "stdout",
     "output_type": "stream",
     "text": [
      "10\n"
     ]
    }
   ],
   "source": [
    "obj = MyClass(10)  # 创建实例\n",
    "obj.print_value()  # 调用实例方法，输出 10"
   ]
  },
  {
   "cell_type": "code",
   "execution_count": null,
   "metadata": {},
   "outputs": [
    {
     "name": "stdout",
     "output_type": "stream",
     "text": [
      "实例化属性\n",
      "Instance Value: 10 122121\n",
      "Class Attribute: Class Attribute\n",
      "This is a static method.\n"
     ]
    }
   ],
   "source": [
    "class MyClass:\n",
    "    class_attr: str = \"Class Attribute\"  # 类属性，设置默认值\n",
    "    name: str  # 类型注解，未初始化\n",
    "\n",
    "    def __init__(self, value: int,goods_name:str):\n",
    "        \"\"\"初始化实例属性\"\"\"\n",
    "        print(\"实例化属性\")\n",
    "        self.value = value  # 实例属性\n",
    "        self.goods_name = goods_name\n",
    "\n",
    "    def print_value(self) -> None:\n",
    "        \"\"\"打印实例属性的值\"\"\"\n",
    "        print(f\"Instance Value: {self.value} {self.goods_name}\")  # 实例方法\n",
    "\n",
    "    @classmethod\n",
    "    def print_class_attr(cls) -> None:\n",
    "        \"\"\"打印类属性的值\"\"\"\n",
    "        print(f\"Class Attribute: {cls.class_attr}\")  # 类方法\n",
    "\n",
    "    @staticmethod\n",
    "    def static_method() -> None:\n",
    "        \"\"\"静态方法示例\"\"\"\n",
    "        \n",
    "        print(\"This is a static method.\")  # 静态方法\n",
    "\n",
    "# 使用示例\n",
    "if __name__ == \"__main__\":\n",
    "    obj = MyClass(10,'122121')\n",
    "\n",
    "    obj.print_value()          # 调用实例方法，输出 \"Instance Value: 10\"\n",
    "    MyClass.print_class_attr() # 调用类方法，输出 \"Class Attribute: Class Attribute\"\n",
    "    MyClass.static_method()    # 调用静态方法，输出 \"This is a static method.\""
   ]
  }
 ],
 "metadata": {
  "kernelspec": {
   "display_name": "Python 3",
   "language": "python",
   "name": "python3"
  },
  "language_info": {
   "codemirror_mode": {
    "name": "ipython",
    "version": 3
   },
   "file_extension": ".py",
   "mimetype": "text/x-python",
   "name": "python",
   "nbconvert_exporter": "python",
   "pygments_lexer": "ipython3",
   "version": "3.12.1"
  }
 },
 "nbformat": 4,
 "nbformat_minor": 2
}
