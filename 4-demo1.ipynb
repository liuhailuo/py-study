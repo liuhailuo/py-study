{
 "cells": [
  {
   "cell_type": "code",
   "execution_count": 3,
   "metadata": {},
   "outputs": [
    {
     "name": "stdout",
     "output_type": "stream",
     "text": [
      "哈哈哈4000\n"
     ]
    }
   ],
   "source": [
    "a = input(\"请输入类型\")\n",
    "\n",
    "match a:\n",
    "    case \"200\"|\"4000\":\n",
    "        print(\"哈哈哈2000\")\n",
    "    case \"300\"|3000:\n",
    "        print(\"哈哈哈3000\")\n",
    "    case \"400\":\n",
    "        print(\"哈哈哈4000\")\n"
   ]
  },
  {
   "cell_type": "code",
   "execution_count": 5,
   "metadata": {},
   "outputs": [
    {
     "name": "stdout",
     "output_type": "stream",
     "text": [
      "共输入了6次\n"
     ]
    }
   ],
   "source": [
    "b = int(input(\"请输入数字\"))\n",
    "\n",
    "a = 0 \n",
    "\n",
    "while b > 5:\n",
    "    a += 1\n",
    "    b = int(input(\"请重新输入\"))\n",
    "\n",
    "\n",
    "print( f\"共输入了{a}次\")    "
   ]
  },
  {
   "cell_type": "code",
   "execution_count": 8,
   "metadata": {},
   "outputs": [
    {
     "name": "stdout",
     "output_type": "stream",
     "text": [
      "number is 9\n",
      "number is 8\n",
      "number is 7\n",
      "number is 6\n",
      "number is 5\n",
      "number is 4\n",
      "number is 3\n",
      "number is 2\n",
      "number is 1\n",
      "number is 0\n"
     ]
    }
   ],
   "source": [
    "number = 10\n",
    "while number >= 1:\n",
    "    number -= 1\n",
    "    print(f\"number is {number}\")"
   ]
  }
 ],
 "metadata": {
  "kernelspec": {
   "display_name": "Python 3",
   "language": "python",
   "name": "python3"
  },
  "language_info": {
   "codemirror_mode": {
    "name": "ipython",
    "version": 3
   },
   "file_extension": ".py",
   "mimetype": "text/x-python",
   "name": "python",
   "nbconvert_exporter": "python",
   "pygments_lexer": "ipython3",
   "version": "3.12.1"
  }
 },
 "nbformat": 4,
 "nbformat_minor": 2
}
