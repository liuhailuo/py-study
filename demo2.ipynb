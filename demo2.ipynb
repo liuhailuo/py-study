{
 "cells": [
  {
   "cell_type": "code",
   "execution_count": 2,
   "metadata": {},
   "outputs": [
    {
     "name": "stdout",
     "output_type": "stream",
     "text": [
      "111111111111111\n"
     ]
    }
   ],
   "source": [
    "print(111111111111111)"
   ]
  },
  {
   "cell_type": "code",
   "execution_count": 3,
   "metadata": {},
   "outputs": [
    {
     "name": "stdout",
     "output_type": "stream",
     "text": [
      "1'\n",
      "2\n"
     ]
    }
   ],
   "source": [
    "var1 = input(\"1\")\n",
    "var2 = input(\"2\")\n",
    "print(var1)\n",
    "print(var2)"
   ]
  },
  {
   "cell_type": "code",
   "execution_count": 5,
   "metadata": {},
   "outputs": [
    {
     "name": "stdout",
     "output_type": "stream",
     "text": [
      "1\n",
      "3\n"
     ]
    }
   ],
   "source": [
    "a,b =1,3\n",
    "print(a)\n",
    "print(b)"
   ]
  },
  {
   "cell_type": "code",
   "execution_count": 7,
   "metadata": {},
   "outputs": [
    {
     "name": "stdout",
     "output_type": "stream",
     "text": [
      "错误的日志信息为空指针异常\n"
     ]
    }
   ],
   "source": [
    "## String 中插入变量的值\n",
    "x = \"空指针异常\"\n",
    "cc  = f\"错误的日志信息为{x}\"\n",
    "print(cc)"
   ]
  },
  {
   "cell_type": "code",
   "execution_count": 9,
   "metadata": {},
   "outputs": [
    {
     "data": {
      "text/plain": [
       "True"
      ]
     },
     "execution_count": 9,
     "metadata": {},
     "output_type": "execute_result"
    }
   ],
   "source": [
    "#字符串包含判断\n",
    "\"x\" in \"123456\"\n",
    "\"x\" not in \"123456\"\n"
   ]
  },
  {
   "cell_type": "code",
   "execution_count": null,
   "metadata": {},
   "outputs": [
    {
     "name": "stdout",
     "output_type": "stream",
     "text": [
      "3\n"
     ]
    }
   ],
   "source": [
    "# 数字* 数字=运算 数字*英文 = 字段串数量拼接\n",
    "print(3*a)"
   ]
  },
  {
   "cell_type": "code",
   "execution_count": null,
   "metadata": {},
   "outputs": [
    {
     "name": "stdout",
     "output_type": "stream",
     "text": [
      "1'空指针异常\n"
     ]
    }
   ],
   "source": [
    "# 只能同类型相加\n",
    "print(var1+x)"
   ]
  },
  {
   "cell_type": "code",
   "execution_count": null,
   "metadata": {},
   "outputs": [
    {
     "name": "stdout",
     "output_type": "stream",
     "text": [
      "b\n",
      "bcdef\n",
      "be\n"
     ]
    }
   ],
   "source": [
    "str = \"abcdefg\"\n",
    "print(str[1])\n",
    "#  1 到6（不包含6）的字符串截取\n",
    "print(str[1:6])\n",
    "#  1 到6（不包含6）的字符串截取，每段截取3个\n",
    "print(str[1:6:3])"
   ]
  },
  {
   "cell_type": "code",
   "execution_count": 45,
   "metadata": {},
   "outputs": [
    {
     "name": "stdout",
     "output_type": "stream",
     "text": [
      "2\n",
      "True\n",
      "False\n"
     ]
    },
    {
     "data": {
      "text/plain": [
       "False"
      ]
     },
     "execution_count": 45,
     "metadata": {},
     "output_type": "execute_result"
    }
   ],
   "source": [
    "str1 = \"zxdfdfswer1\"\n",
    "str2 = \"123465798\"\n",
    "\n",
    "# 获取d字符串的数量\n",
    "print(str1.count('d'))\n",
    "# 判断是否所有字符都是字母或者数字，至少有一个字符\n",
    "print(str1.isalnum())\n",
    "# 判断所有的字符都是字母\n",
    "print(str1.isalpha())\n",
    "#字符串拼接 相当于Stringjoiner\n",
    "str2 =\",\".join(str2)\n",
    "#字符串分割\n",
    "str2.split(\",\")\n",
    "#字符串判断\n",
    "str2.startswith(\"s\")"
   ]
  },
  {
   "cell_type": "code",
   "execution_count": null,
   "metadata": {},
   "outputs": [],
   "source": []
  },
  {
   "cell_type": "code",
   "execution_count": null,
   "metadata": {},
   "outputs": [],
   "source": []
  }
 ],
 "metadata": {
  "kernelspec": {
   "display_name": "Python 3",
   "language": "python",
   "name": "python3"
  },
  "language_info": {
   "codemirror_mode": {
    "name": "ipython",
    "version": 3
   },
   "file_extension": ".py",
   "mimetype": "text/x-python",
   "name": "python",
   "nbconvert_exporter": "python",
   "pygments_lexer": "ipython3",
   "version": "3.12.1"
  }
 },
 "nbformat": 4,
 "nbformat_minor": 2
}
