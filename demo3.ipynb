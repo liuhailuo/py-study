{
 "cells": [
  {
   "cell_type": "code",
   "execution_count": 2,
   "metadata": {},
   "outputs": [
    {
     "name": "stdout",
     "output_type": "stream",
     "text": [
      "123\n"
     ]
    }
   ],
   "source": [
    "print(int(123.456))"
   ]
  },
  {
   "cell_type": "code",
   "execution_count": 8,
   "metadata": {},
   "outputs": [
    {
     "name": "stdout",
     "output_type": "stream",
     "text": [
      "<class 'int'>\n",
      "<class 'str'>\n",
      "<class 'str'>\n",
      "123123123\n"
     ]
    }
   ],
   "source": [
    "abc = 123\n",
    "print(type(abc))\n",
    "abc = '123'\n",
    "print(type(abc))\n",
    "abc = \"123\"\n",
    "print(type(abc))\n",
    "xyz = 'xyz'\n",
    "#print(int(xyz))\n",
    "print(str(abc)*3)"
   ]
  },
  {
   "cell_type": "code",
   "execution_count": 9,
   "metadata": {},
   "outputs": [
    {
     "name": "stdout",
     "output_type": "stream",
     "text": [
      "8\n"
     ]
    }
   ],
   "source": [
    "x = 2\n",
    "y = 3\n",
    "print(pow(x,y))"
   ]
  },
  {
   "cell_type": "code",
   "execution_count": null,
   "metadata": {},
   "outputs": [
    {
     "name": "stdout",
     "output_type": "stream",
     "text": [
      "['xxxx', 2131, 'yyy', 25.31, 'zzz', -123, ',']\n"
     ]
    }
   ],
   "source": [
    "len(xyz)\n",
    "\n",
    "arr = ['xxxx',2131,\"yyy\",25.31,\"zzz\",-123]\n",
    "\n",
    "arr = ['xxxx',2131,\"yyy\",25.31,\"zzz\",-123]\n",
    "\n",
    " \n"
   ]
  },
  {
   "cell_type": "code",
   "execution_count": 15,
   "metadata": {},
   "outputs": [
    {
     "name": "stdout",
     "output_type": "stream",
     "text": [
      "5\n"
     ]
    }
   ],
   "source": [
    "num1 = input(\"请输入数字1\")\n",
    "num2 = input(\"请输入数字2\")\n",
    "op = input(\"请输入运算符\")\n",
    "print(eval(f\"{num1}{op}{num2}\"))\n"
   ]
  }
 ],
 "metadata": {
  "kernelspec": {
   "display_name": "Python 3",
   "language": "python",
   "name": "python3"
  },
  "language_info": {
   "codemirror_mode": {
    "name": "ipython",
    "version": 3
   },
   "file_extension": ".py",
   "mimetype": "text/x-python",
   "name": "python",
   "nbconvert_exporter": "python",
   "pygments_lexer": "ipython3",
   "version": "3.12.1"
  }
 },
 "nbformat": 4,
 "nbformat_minor": 2
}
