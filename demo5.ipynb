{
 "cells": [
  {
   "cell_type": "code",
   "execution_count": 2,
   "metadata": {},
   "outputs": [
    {
     "name": "stdout",
     "output_type": "stream",
     "text": [
      "['About this Document\\n',\n",
      " 'Range of validity\\n',\n",
      " 'The present manual applies to S34U18 three phase smart meters.\\n',\n",
      " 'Target group\\n',\n",
      " 'The content of this manual is intended for technically qualified personnel '\n",
      " 'of energy supply \\n',\n",
      " 'companies, responsible for system planning, installation and commissioning, '\n",
      " 'operation, maintenance, \\n',\n",
      " 'decommissioning and disposal of meters.\\n',\n",
      " 'Purpose\\n',\n",
      " 'The manual contains the information of specification, to facilitate the '\n",
      " 'operation and maintenance of \\n',\n",
      " 'electricity meters according to this document.\\n',\n",
      " 'The Meter is designed and constructed in such a way as to avoid introducing '\n",
      " 'any danger to the meter \\n',\n",
      " 'in use and under normal conditions, so as to ensure specially personnel '\n",
      " 'safety against electric shock\\n',\n",
      " '\\n',\n",
      " 'Technical Manual of Meter of P34U86\\n',\n",
      " '21 / 93\\n',\n",
      " 'Address: No.16, Fengwan Road, Cicheng Town, Jiangbei District, Ningbo, '\n",
      " 'China, 315000\\n',\n",
      " 'Company: Ningbo Sanxing Electric Co., Ltd.\\n',\n",
      " 'Web: www.sanxingelectric.com\\n',\n",
      " 'The connecting wires at the place of installation must not be live when '\n",
      " 'removing the \\n',\n",
      " 'meter. Touching live parts is dangerous to life. The corresponding main '\n",
      " 'fuses should be \\n',\n",
      " 'removed and kept in a safe place until work is completed, so that they '\n",
      " 'cannot be replaced \\n',\n",
      " 'by anyone unnoticed.\\n',\n",
      " 'Remove the meter from the network as follows:\\n',\n",
      " '1 Turn off the load by using the meter breaker\\n',\n",
      " '2 Switch off the voltage and remove the fuses. The display goes off.\\n',\n",
      " '3 Open the sealing screw covers and remove the seals.\\n',\n",
      " '4 Release and remove the terminal cover.\\n',\n",
      " '5 Ensure with a phase checker that the connecting wires have no voltage. If '\n",
      " 'there is voltage, \\n',\n",
      " 'troubleshoots!\\n',\n",
      " '6 Remove the connecting wires of the inputs and outputs, if available.\\n',\n",
      " '7 Loosen the terminal screws of the phase and neutral connecting wires with '\n",
      " 'a suitable \\n',\n",
      " 'screwdriver and withdraw the wires from the terminals.\\n',\n",
      " '8 Unscrew and remove the meter']\n",
      "mode r\n"
     ]
    }
   ],
   "source": [
    "import pprint\n",
    "with open(\"./a.txt\") as f:\n",
    "    file_data = f.readlines()\n",
    "    pprint.pprint(file_data)\n",
    "    print(\"mode\",f.mode)"
   ]
  },
  {
   "cell_type": "code",
   "execution_count": 15,
   "metadata": {},
   "outputs": [
    {
     "data": {
      "text/plain": [
       "[1, 2, 3]"
      ]
     },
     "execution_count": 15,
     "metadata": {},
     "output_type": "execute_result"
    }
   ],
   "source": [
    "from tinydb import TinyDB\n",
    "\n",
    "db = TinyDB('./db.json')\n",
    "\n",
    "friend_1 = {'name':file_data[0].split(\" \")[0],'source':file_data[0].split(\" \")[1],'tel':file_data[0].split(\" \")[2].strip()}\n",
    "friend_2 = {'name':file_data[1].split(\" \")[0],'source':file_data[1].split(\" \")[1],'tel':file_data[1].split(\" \")[2].strip()}\n",
    "friend_3 = {'name':file_data[2].split(\" \")[0],'source':file_data[2].split(\" \")[1],'tel':file_data[2].split(\" \")[2].strip()}\n",
    "\n",
    "db.insert_multiple([\n",
    "     friend_1,\n",
    "    friend_2,\n",
    "    friend_3\n",
    "])\n",
    "\n"
   ]
  },
  {
   "cell_type": "code",
   "execution_count": 20,
   "metadata": {},
   "outputs": [
    {
     "data": {
      "text/plain": [
       "[{'name': 'About', 'source': 'this', 'tel': 'Document'},\n",
       " {'name': 'Range', 'source': 'of', 'tel': 'validity'},\n",
       " {'name': 'The', 'source': 'present', 'tel': 'manual'}]"
      ]
     },
     "execution_count": 20,
     "metadata": {},
     "output_type": "execute_result"
    }
   ],
   "source": [
    "db.all()"
   ]
  },
  {
   "cell_type": "code",
   "execution_count": 28,
   "metadata": {},
   "outputs": [
    {
     "name": "stdout",
     "output_type": "stream",
     "text": [
      "[{'name': 'Range', 'source': 'of', 'tel': 'validity'}]\n",
      "Range的手机号码为validity\n"
     ]
    }
   ],
   "source": [
    "from tinydb import Query\n",
    "\n",
    "friend = Query()\n",
    "\n",
    "friend_info = db.search(friend.name == \"Range\")\n",
    "\n",
    "print(friend_info)\n",
    "\n",
    "for item in friend_info:\n",
    "    \n",
    "    print(f\"{item.get(\"name\")}的手机号码为{item.get(\"tel\")}\")\n",
    "\n",
    "\n",
    "# print(f\"{friend_info[0].get(\"name\")}的手机号码为{friend_info[0].get(\"tel\")}\")"
   ]
  },
  {
   "cell_type": "code",
   "execution_count": 33,
   "metadata": {},
   "outputs": [
    {
     "name": "stdout",
     "output_type": "stream",
     "text": [
      "{1, 2, 3, 4, 5}\n",
      "{1, 2, 3, 4, 5}\n"
     ]
    }
   ],
   "source": [
    "my_set = {1,2,3,4,5,1}\n",
    "\n",
    "print(my_set)\n",
    "\n",
    "my_set = set([1, 2, 3, 4, 5])  # 从列表创建\n",
    "\n",
    "print(my_set)  # 输出: {1, 2, 3, 4, 5}\n"
   ]
  },
  {
   "cell_type": "code",
   "execution_count": 38,
   "metadata": {},
   "outputs": [
    {
     "name": "stdout",
     "output_type": "stream",
     "text": [
      "Sadfdafdsa\n",
      "sadfdafdsa\n"
     ]
    }
   ],
   "source": [
    "str = 'sadfdafdsa'\n",
    "\n",
    "print(str.capitalize())\n",
    "\n",
    "print(str.casefold())"
   ]
  },
  {
   "cell_type": "code",
   "execution_count": 39,
   "metadata": {},
   "outputs": [
    {
     "name": "stdout",
     "output_type": "stream",
     "text": [
      "Help on class list in module builtins:\n",
      "\n",
      "class list(object)\n",
      " |  list(iterable=(), /)\n",
      " |\n",
      " |  Built-in mutable sequence.\n",
      " |\n",
      " |  If no argument is given, the constructor creates a new empty list.\n",
      " |  The argument must be an iterable if specified.\n",
      " |\n",
      " |  Methods defined here:\n",
      " |\n",
      " |  __add__(self, value, /)\n",
      " |      Return self+value.\n",
      " |\n",
      " |  __contains__(self, key, /)\n",
      " |      Return bool(key in self).\n",
      " |\n",
      " |  __delitem__(self, key, /)\n",
      " |      Delete self[key].\n",
      " |\n",
      " |  __eq__(self, value, /)\n",
      " |      Return self==value.\n",
      " |\n",
      " |  __ge__(self, value, /)\n",
      " |      Return self>=value.\n",
      " |\n",
      " |  __getattribute__(self, name, /)\n",
      " |      Return getattr(self, name).\n",
      " |\n",
      " |  __getitem__(self, index, /)\n",
      " |      Return self[index].\n",
      " |\n",
      " |  __gt__(self, value, /)\n",
      " |      Return self>value.\n",
      " |\n",
      " |  __iadd__(self, value, /)\n",
      " |      Implement self+=value.\n",
      " |\n",
      " |  __imul__(self, value, /)\n",
      " |      Implement self*=value.\n",
      " |\n",
      " |  __init__(self, /, *args, **kwargs)\n",
      " |      Initialize self.  See help(type(self)) for accurate signature.\n",
      " |\n",
      " |  __iter__(self, /)\n",
      " |      Implement iter(self).\n",
      " |\n",
      " |  __le__(self, value, /)\n",
      " |      Return self<=value.\n",
      " |\n",
      " |  __len__(self, /)\n",
      " |      Return len(self).\n",
      " |\n",
      " |  __lt__(self, value, /)\n",
      " |      Return self<value.\n",
      " |\n",
      " |  __mul__(self, value, /)\n",
      " |      Return self*value.\n",
      " |\n",
      " |  __ne__(self, value, /)\n",
      " |      Return self!=value.\n",
      " |\n",
      " |  __repr__(self, /)\n",
      " |      Return repr(self).\n",
      " |\n",
      " |  __reversed__(self, /)\n",
      " |      Return a reverse iterator over the list.\n",
      " |\n",
      " |  __rmul__(self, value, /)\n",
      " |      Return value*self.\n",
      " |\n",
      " |  __setitem__(self, key, value, /)\n",
      " |      Set self[key] to value.\n",
      " |\n",
      " |  __sizeof__(self, /)\n",
      " |      Return the size of the list in memory, in bytes.\n",
      " |\n",
      " |  append(self, object, /)\n",
      " |      Append object to the end of the list.\n",
      " |\n",
      " |  clear(self, /)\n",
      " |      Remove all items from list.\n",
      " |\n",
      " |  copy(self, /)\n",
      " |      Return a shallow copy of the list.\n",
      " |\n",
      " |  count(self, value, /)\n",
      " |      Return number of occurrences of value.\n",
      " |\n",
      " |  extend(self, iterable, /)\n",
      " |      Extend list by appending elements from the iterable.\n",
      " |\n",
      " |  index(self, value, start=0, stop=9223372036854775807, /)\n",
      " |      Return first index of value.\n",
      " |\n",
      " |      Raises ValueError if the value is not present.\n",
      " |\n",
      " |  insert(self, index, object, /)\n",
      " |      Insert object before index.\n",
      " |\n",
      " |  pop(self, index=-1, /)\n",
      " |      Remove and return item at index (default last).\n",
      " |\n",
      " |      Raises IndexError if list is empty or index is out of range.\n",
      " |\n",
      " |  remove(self, value, /)\n",
      " |      Remove first occurrence of value.\n",
      " |\n",
      " |      Raises ValueError if the value is not present.\n",
      " |\n",
      " |  reverse(self, /)\n",
      " |      Reverse *IN PLACE*.\n",
      " |\n",
      " |  sort(self, /, *, key=None, reverse=False)\n",
      " |      Sort the list in ascending order and return None.\n",
      " |\n",
      " |      The sort is in-place (i.e. the list itself is modified) and stable (i.e. the\n",
      " |      order of two equal elements is maintained).\n",
      " |\n",
      " |      If a key function is given, apply it once to each list item and sort them,\n",
      " |      ascending or descending, according to their function values.\n",
      " |\n",
      " |      The reverse flag can be set to sort in descending order.\n",
      " |\n",
      " |  ----------------------------------------------------------------------\n",
      " |  Class methods defined here:\n",
      " |\n",
      " |  __class_getitem__(...) from builtins.type\n",
      " |      See PEP 585\n",
      " |\n",
      " |  ----------------------------------------------------------------------\n",
      " |  Static methods defined here:\n",
      " |\n",
      " |  __new__(*args, **kwargs) from builtins.type\n",
      " |      Create and return a new object.  See help(type) for accurate signature.\n",
      " |\n",
      " |  ----------------------------------------------------------------------\n",
      " |  Data and other attributes defined here:\n",
      " |\n",
      " |  __hash__ = None\n",
      "\n"
     ]
    }
   ],
   "source": [
    "help(list)"
   ]
  },
  {
   "cell_type": "code",
   "execution_count": 41,
   "metadata": {},
   "outputs": [
    {
     "name": "stdout",
     "output_type": "stream",
     "text": [
      "1\n"
     ]
    }
   ],
   "source": [
    "print(str.index(\"a\"))"
   ]
  }
 ],
 "metadata": {
  "kernelspec": {
   "display_name": "Python 3",
   "language": "python",
   "name": "python3"
  },
  "language_info": {
   "codemirror_mode": {
    "name": "ipython",
    "version": 3
   },
   "file_extension": ".py",
   "mimetype": "text/x-python",
   "name": "python",
   "nbconvert_exporter": "python",
   "pygments_lexer": "ipython3",
   "version": "3.12.1"
  }
 },
 "nbformat": 4,
 "nbformat_minor": 2
}
