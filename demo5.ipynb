{
 "cells": [
  {
   "cell_type": "code",
   "execution_count": 2,
   "metadata": {},
   "outputs": [
    {
     "name": "stdout",
     "output_type": "stream",
     "text": [
      "['About this Document\\n',\n",
      " 'Range of validity\\n',\n",
      " 'The present manual applies to S34U18 three phase smart meters.\\n',\n",
      " 'Target group\\n',\n",
      " 'The content of this manual is intended for technically qualified personnel '\n",
      " 'of energy supply \\n',\n",
      " 'companies, responsible for system planning, installation and commissioning, '\n",
      " 'operation, maintenance, \\n',\n",
      " 'decommissioning and disposal of meters.\\n',\n",
      " 'Purpose\\n',\n",
      " 'The manual contains the information of specification, to facilitate the '\n",
      " 'operation and maintenance of \\n',\n",
      " 'electricity meters according to this document.\\n',\n",
      " 'The Meter is designed and constructed in such a way as to avoid introducing '\n",
      " 'any danger to the meter \\n',\n",
      " 'in use and under normal conditions, so as to ensure specially personnel '\n",
      " 'safety against electric shock\\n',\n",
      " '\\n',\n",
      " 'Technical Manual of Meter of P34U86\\n',\n",
      " '21 / 93\\n',\n",
      " 'Address: No.16, Fengwan Road, Cicheng Town, Jiangbei District, Ningbo, '\n",
      " 'China, 315000\\n',\n",
      " 'Company: Ningbo Sanxing Electric Co., Ltd.\\n',\n",
      " 'Web: www.sanxingelectric.com\\n',\n",
      " 'The connecting wires at the place of installation must not be live when '\n",
      " 'removing the \\n',\n",
      " 'meter. Touching live parts is dangerous to life. The corresponding main '\n",
      " 'fuses should be \\n',\n",
      " 'removed and kept in a safe place until work is completed, so that they '\n",
      " 'cannot be replaced \\n',\n",
      " 'by anyone unnoticed.\\n',\n",
      " 'Remove the meter from the network as follows:\\n',\n",
      " '1 Turn off the load by using the meter breaker\\n',\n",
      " '2 Switch off the voltage and remove the fuses. The display goes off.\\n',\n",
      " '3 Open the sealing screw covers and remove the seals.\\n',\n",
      " '4 Release and remove the terminal cover.\\n',\n",
      " '5 Ensure with a phase checker that the connecting wires have no voltage. If '\n",
      " 'there is voltage, \\n',\n",
      " 'troubleshoots!\\n',\n",
      " '6 Remove the connecting wires of the inputs and outputs, if available.\\n',\n",
      " '7 Loosen the terminal screws of the phase and neutral connecting wires with '\n",
      " 'a suitable \\n',\n",
      " 'screwdriver and withdraw the wires from the terminals.\\n',\n",
      " '8 Unscrew and remove the meter']\n",
      "mode r\n"
     ]
    }
   ],
   "source": [
    "import pprint\n",
    "with open(\"./a.txt\") as f:\n",
    "    file_data = f.readlines()\n",
    "    pprint.pprint(file_data)\n",
    "    print(\"mode\",f.mode)"
   ]
  },
  {
   "cell_type": "code",
   "execution_count": 13,
   "metadata": {},
   "outputs": [
    {
     "ename": "TypeError",
     "evalue": "unhashable type: 'dict'",
     "output_type": "error",
     "traceback": [
      "\u001b[1;31m---------------------------------------------------------------------------\u001b[0m",
      "\u001b[1;31mTypeError\u001b[0m                                 Traceback (most recent call last)",
      "Cell \u001b[1;32mIn[13], line 9\u001b[0m\n\u001b[0;32m      6\u001b[0m friend_2 \u001b[38;5;241m=\u001b[39m {\u001b[38;5;124m'\u001b[39m\u001b[38;5;124mname\u001b[39m\u001b[38;5;124m'\u001b[39m:file_data[\u001b[38;5;241m1\u001b[39m]\u001b[38;5;241m.\u001b[39msplit(\u001b[38;5;124m\"\u001b[39m\u001b[38;5;124m \u001b[39m\u001b[38;5;124m\"\u001b[39m)[\u001b[38;5;241m0\u001b[39m],\u001b[38;5;124m'\u001b[39m\u001b[38;5;124msource\u001b[39m\u001b[38;5;124m'\u001b[39m:file_data[\u001b[38;5;241m1\u001b[39m]\u001b[38;5;241m.\u001b[39msplit(\u001b[38;5;124m\"\u001b[39m\u001b[38;5;124m \u001b[39m\u001b[38;5;124m\"\u001b[39m)[\u001b[38;5;241m1\u001b[39m],\u001b[38;5;124m'\u001b[39m\u001b[38;5;124mtel\u001b[39m\u001b[38;5;124m'\u001b[39m:file_data[\u001b[38;5;241m1\u001b[39m]\u001b[38;5;241m.\u001b[39msplit(\u001b[38;5;124m\"\u001b[39m\u001b[38;5;124m \u001b[39m\u001b[38;5;124m\"\u001b[39m)[\u001b[38;5;241m2\u001b[39m]\u001b[38;5;241m.\u001b[39mstrip()}\n\u001b[0;32m      7\u001b[0m friend_3 \u001b[38;5;241m=\u001b[39m {\u001b[38;5;124m'\u001b[39m\u001b[38;5;124mname\u001b[39m\u001b[38;5;124m'\u001b[39m:file_data[\u001b[38;5;241m2\u001b[39m]\u001b[38;5;241m.\u001b[39msplit(\u001b[38;5;124m\"\u001b[39m\u001b[38;5;124m \u001b[39m\u001b[38;5;124m\"\u001b[39m)[\u001b[38;5;241m0\u001b[39m],\u001b[38;5;124m'\u001b[39m\u001b[38;5;124msource\u001b[39m\u001b[38;5;124m'\u001b[39m:file_data[\u001b[38;5;241m2\u001b[39m]\u001b[38;5;241m.\u001b[39msplit(\u001b[38;5;124m\"\u001b[39m\u001b[38;5;124m \u001b[39m\u001b[38;5;124m\"\u001b[39m)[\u001b[38;5;241m1\u001b[39m],\u001b[38;5;124m'\u001b[39m\u001b[38;5;124mtel\u001b[39m\u001b[38;5;124m'\u001b[39m:file_data[\u001b[38;5;241m2\u001b[39m]\u001b[38;5;241m.\u001b[39msplit(\u001b[38;5;124m\"\u001b[39m\u001b[38;5;124m \u001b[39m\u001b[38;5;124m\"\u001b[39m)[\u001b[38;5;241m2\u001b[39m]\u001b[38;5;241m.\u001b[39mstrip()}\n\u001b[1;32m----> 9\u001b[0m db\u001b[38;5;241m.\u001b[39minsert_multiple({\n\u001b[0;32m     10\u001b[0m     friend_1,\n\u001b[0;32m     11\u001b[0m     friend_2,\n\u001b[0;32m     12\u001b[0m     friend_3\n\u001b[0;32m     13\u001b[0m })\n",
      "\u001b[1;31mTypeError\u001b[0m: unhashable type: 'dict'"
     ]
    }
   ],
   "source": [
    "from tinydb import TinyDB\n",
    "\n",
    "db = TinyDB('./db.json')\n",
    "\n",
    "friend_1 = {'name':file_data[0].split(\" \")[0],'source':file_data[0].split(\" \")[1],'tel':file_data[0].split(\" \")[2].strip()}\n",
    "friend_2 = {'name':file_data[1].split(\" \")[0],'source':file_data[1].split(\" \")[1],'tel':file_data[1].split(\" \")[2].strip()}\n",
    "friend_3 = {'name':file_data[2].split(\" \")[0],'source':file_data[2].split(\" \")[1],'tel':file_data[2].split(\" \")[2].strip()}\n",
    "\n",
    "db.insert_multiple({\n",
    "    friend_1,\n",
    "    friend_2,\n",
    "    friend_3\n",
    "})\n",
    "\n"
   ]
  }
 ],
 "metadata": {
  "kernelspec": {
   "display_name": "Python 3",
   "language": "python",
   "name": "python3"
  },
  "language_info": {
   "codemirror_mode": {
    "name": "ipython",
    "version": 3
   },
   "file_extension": ".py",
   "mimetype": "text/x-python",
   "name": "python",
   "nbconvert_exporter": "python",
   "pygments_lexer": "ipython3",
   "version": "3.12.1"
  }
 },
 "nbformat": 4,
 "nbformat_minor": 2
}
