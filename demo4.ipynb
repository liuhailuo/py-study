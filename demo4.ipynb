{
 "cells": [
  {
   "cell_type": "code",
   "execution_count": 1,
   "metadata": {},
   "outputs": [
    {
     "name": "stdout",
     "output_type": "stream",
     "text": [
      "<class 'list'>\n"
     ]
    }
   ],
   "source": [
    "colors = [\"red\",\"blue\",\"green\"]\n",
    "print(type(colors))"
   ]
  },
  {
   "cell_type": "code",
   "execution_count": null,
   "metadata": {},
   "outputs": [
    {
     "data": {
      "text/plain": [
       "['r', 'e', 'd']"
      ]
     },
     "execution_count": 5,
     "metadata": {},
     "output_type": "execute_result"
    }
   ],
   "source": [
    "list(colors)\n",
    "list(colors[0])\n"
   ]
  },
  {
   "cell_type": "code",
   "execution_count": 9,
   "metadata": {},
   "outputs": [
    {
     "name": "stdout",
     "output_type": "stream",
     "text": [
      "<class 'list'>\n"
     ]
    }
   ],
   "source": [
    "[x for x in range(0,10)]\n",
    "aa =  [list(colors)]\n",
    "print(type(aa[0]))"
   ]
  },
  {
   "cell_type": "code",
   "execution_count": null,
   "metadata": {},
   "outputs": [
    {
     "name": "stdout",
     "output_type": "stream",
     "text": [
      "5\n"
     ]
    },
    {
     "ename": "NameError",
     "evalue": "name 'colors' is not defined",
     "output_type": "error",
     "traceback": [
      "\u001b[1;31m---------------------------------------------------------------------------\u001b[0m",
      "\u001b[1;31mNameError\u001b[0m                                 Traceback (most recent call last)",
      "Cell \u001b[1;32mIn[13], line 5\u001b[0m\n\u001b[0;32m      2\u001b[0m \u001b[38;5;28mprint\u001b[39m(\u001b[38;5;28mlen\u001b[39m(colors[\u001b[38;5;241m3\u001b[39m][\u001b[38;5;241m2\u001b[39m]))\n\u001b[0;32m      4\u001b[0m \u001b[38;5;28;01mdel\u001b[39;00m colors\n\u001b[1;32m----> 5\u001b[0m \u001b[38;5;28mprint\u001b[39m(\u001b[43mcolors\u001b[49m)\n",
      "\u001b[1;31mNameError\u001b[0m: name 'colors' is not defined"
     ]
    }
   ],
   "source": [
    "colors = [\"red\",\"blue\",\"green\",[\"grey\",\"black\",\"white\"]]\n",
    "print(len(colors[3][2]))\n",
    "print(colors)\n"
   ]
  },
  {
   "cell_type": "code",
   "execution_count": 16,
   "metadata": {},
   "outputs": [
    {
     "name": "stdout",
     "output_type": "stream",
     "text": [
      "['test', 'red', 'blue', 'green', ['grey', 'black', 'white']]\n"
     ]
    }
   ],
   "source": [
    "colors = [\"red\",\"blue\",\"green\",[\"grey\",\"black\",\"white\"]]\n",
    "\n",
    "colors.insert(0,\"test\")\n",
    "\n",
    "print(colors)"
   ]
  },
  {
   "cell_type": "code",
   "execution_count": null,
   "metadata": {},
   "outputs": [
    {
     "name": "stdout",
     "output_type": "stream",
     "text": [
      "['test', 'red', 'blue', 'green', ['grey', 'black', 'white'], 'test1', 'test1']\n"
     ]
    }
   ],
   "source": [
    "colors.append(\"test1\")\n",
    "\n",
    "print(colors)"
   ]
  },
  {
   "cell_type": "code",
   "execution_count": 87,
   "metadata": {},
   "outputs": [
    {
     "name": "stdout",
     "output_type": "stream",
     "text": [
      "['red1', 'blue1', 'green1', ['grey1', 'black1', 'white1'], 'test', 'red', 'blue', 'green', ['grey', 'black', 'white'], 'test1', 'test1']\n"
     ]
    }
   ],
   "source": [
    "colors1 = [\"red1\",\"blue1\",\"green1\",[\"grey1\",\"black1\",\"white1\"]]\n",
    "\n",
    "colors1.extend(colors)\n",
    "\n",
    "print(colors1)\n"
   ]
  },
  {
   "cell_type": "code",
   "execution_count": 20,
   "metadata": {},
   "outputs": [
    {
     "name": "stdout",
     "output_type": "stream",
     "text": [
      "['blue1', 'green1', ['grey1', 'black1', 'white1'], 'test', 'red', 'blue', 'green', ['grey', 'black', 'white'], 'test1', 'test1']\n"
     ]
    }
   ],
   "source": [
    "colors1.remove(\"red1\")\n",
    "print(colors1)"
   ]
  },
  {
   "cell_type": "code",
   "execution_count": 24,
   "metadata": {},
   "outputs": [
    {
     "name": "stdout",
     "output_type": "stream",
     "text": [
      "['red1', 'blue1', 'green1', ['white1', 'black1', 'grey1']]\n"
     ]
    }
   ],
   "source": [
    "colors2 = [\"red1\",\"blue1\",\"green1\",[\"grey1\",\"black1\",\"white1\"]]\n",
    "\n",
    "colors2[3].reverse()\n",
    "\n",
    "print(colors2)"
   ]
  },
  {
   "cell_type": "code",
   "execution_count": null,
   "metadata": {},
   "outputs": [
    {
     "data": {
      "text/plain": [
       "'red1'"
      ]
     },
     "execution_count": 25,
     "metadata": {},
     "output_type": "execute_result"
    }
   ],
   "source": [
    "# 移除这个元素 并返回结果\n",
    "colors2.pop(0)"
   ]
  },
  {
   "cell_type": "code",
   "execution_count": null,
   "metadata": {},
   "outputs": [
    {
     "data": {
      "text/plain": [
       "0"
      ]
     },
     "execution_count": 28,
     "metadata": {},
     "output_type": "execute_result"
    }
   ],
   "source": [
    "len(colors2)\n",
    "len(colors2[0])\n",
    "colors2.count('red')\n"
   ]
  },
  {
   "cell_type": "code",
   "execution_count": 32,
   "metadata": {},
   "outputs": [
    {
     "ename": "TypeError",
     "evalue": "'<' not supported between instances of 'list' and 'str'",
     "output_type": "error",
     "traceback": [
      "\u001b[1;31m---------------------------------------------------------------------------\u001b[0m",
      "\u001b[1;31mTypeError\u001b[0m                                 Traceback (most recent call last)",
      "Cell \u001b[1;32mIn[32], line 3\u001b[0m\n\u001b[0;32m      1\u001b[0m [\u001b[38;5;241m1\u001b[39m,\u001b[38;5;241m46\u001b[39m,\u001b[38;5;241m5\u001b[39m,\u001b[38;5;241m4\u001b[39m,\u001b[38;5;241m63\u001b[39m,\u001b[38;5;241m1\u001b[39m,\u001b[38;5;241m6\u001b[39m]\n\u001b[1;32m----> 3\u001b[0m \u001b[38;5;28;43msorted\u001b[39;49m\u001b[43m(\u001b[49m\u001b[43mcolors2\u001b[49m\u001b[43m)\u001b[49m\n",
      "\u001b[1;31mTypeError\u001b[0m: '<' not supported between instances of 'list' and 'str'"
     ]
    }
   ],
   "source": [
    "[1,46,5,4,63,1,6]\n",
    "\n",
    "sorted(colors2)"
   ]
  },
  {
   "cell_type": "code",
   "execution_count": 42,
   "metadata": {},
   "outputs": [
    {
     "ename": "AttributeError",
     "evalue": "'tuple' object has no attribute '123'",
     "output_type": "error",
     "traceback": [
      "\u001b[1;31m---------------------------------------------------------------------------\u001b[0m",
      "\u001b[1;31mAttributeError\u001b[0m                            Traceback (most recent call last)",
      "Cell \u001b[1;32mIn[42], line 5\u001b[0m\n\u001b[0;32m      1\u001b[0m aa \u001b[38;5;241m=\u001b[39m (\u001b[38;5;241m1\u001b[39m,\u001b[38;5;241m2\u001b[39m,\u001b[38;5;241m3\u001b[39m)\n\u001b[0;32m      3\u001b[0m bb \u001b[38;5;241m=\u001b[39m \u001b[38;5;28mtuple\u001b[39m(aa)\n\u001b[1;32m----> 5\u001b[0m \u001b[43mbb\u001b[49m\u001b[38;5;241;43m.\u001b[39;49m\u001b[38;5;21;43m__delattr__\u001b[39;49m\u001b[43m(\u001b[49m\u001b[38;5;124;43m\"\u001b[39;49m\u001b[38;5;124;43m123\u001b[39;49m\u001b[38;5;124;43m\"\u001b[39;49m\u001b[43m)\u001b[49m\n\u001b[0;32m      6\u001b[0m \u001b[38;5;28mprint\u001b[39m(aa)\n",
      "\u001b[1;31mAttributeError\u001b[0m: 'tuple' object has no attribute '123'"
     ]
    }
   ],
   "source": [
    "aa = (1,2,3)\n",
    "\n",
    "bb = tuple(aa)\n",
    "\n",
    "bb.__delattr__(\"123\")\n",
    "print(aa)\n"
   ]
  },
  {
   "cell_type": "code",
   "execution_count": 43,
   "metadata": {},
   "outputs": [
    {
     "name": "stdout",
     "output_type": "stream",
     "text": [
      "1 2 3\n"
     ]
    }
   ],
   "source": [
    "# 列表\n",
    "my_list = [1, 2, 3]\n",
    "# 元组\n",
    "my_tuple = (1, 2, 3)\n",
    "\n",
    "\n",
    "a,b,c =my_tuple\n",
    "print(a,b,c)"
   ]
  },
  {
   "cell_type": "code",
   "execution_count": 50,
   "metadata": {},
   "outputs": [
    {
     "name": "stdout",
     "output_type": "stream",
     "text": [
      "{1, 2, 3}\n",
      "{3}\n"
     ]
    }
   ],
   "source": [
    "# 集合对象\n",
    "colors111 = (1, 2, 3)\n",
    "new_color = set(colors111)\n",
    "print(new_color)\n",
    "\n",
    "new_color.remove(1)\n",
    "new_color.pop()\n",
    "print(new_color)"
   ]
  },
  {
   "cell_type": "code",
   "execution_count": 56,
   "metadata": {},
   "outputs": [
    {
     "name": "stdout",
     "output_type": "stream",
     "text": [
      "{'one': 1, 'two': 2}\n",
      "{'one': 1, 'two': 2}\n",
      "{0: 0, 1: 1, 2: 4, 3: 9, 4: 16, 5: 25, 6: 36, 7: 49, 8: 64, 9: 81}\n"
     ]
    }
   ],
   "source": [
    "# 字典类型\n",
    "\n",
    "ca = {'one':1,'two':2}\n",
    "print(ca)\n",
    "ca1 = dict(one= 1,two = 2)\n",
    "print(ca1)\n",
    "ca2 = {x:x**2 for x in range(10)}\n",
    "\n",
    "print(ca2)\n",
    "\n",
    "del ca2[0]"
   ]
  },
  {
   "cell_type": "code",
   "execution_count": 59,
   "metadata": {},
   "outputs": [
    {
     "name": "stdout",
     "output_type": "stream",
     "text": [
      "True\n"
     ]
    }
   ],
   "source": [
    "print(ca1.get(0) == None)"
   ]
  },
  {
   "cell_type": "code",
   "execution_count": 64,
   "metadata": {},
   "outputs": [
    {
     "name": "stdout",
     "output_type": "stream",
     "text": [
      "dict_items([(1, 1), (2, 4), (3, 9), (4, 16), (5, 25), (6, 36), (7, 49), (8, 64), (9, 81)])\n",
      "dict_keys([1, 2, 3, 4, 5, 6, 7, 8, 9])\n",
      "dict_values([1, 4, 9, 16, 25, 36, 49, 64, 81])\n"
     ]
    }
   ],
   "source": [
    "print(ca2.items())\n",
    "print(ca2.keys()) # 键\n",
    "print(ca2.values()) # 值"
   ]
  },
  {
   "cell_type": "code",
   "execution_count": 66,
   "metadata": {},
   "outputs": [
    {
     "name": "stdout",
     "output_type": "stream",
     "text": [
      "1 : 1\n",
      "2 : 4\n",
      "3 : 9\n",
      "4 : 16\n",
      "5 : 25\n",
      "6 : 36\n",
      "7 : 49\n",
      "8 : 64\n",
      "9 : 81\n"
     ]
    }
   ],
   "source": [
    "for key,value in ca2.items():\n",
    "    print(key,\":\",value)"
   ]
  },
  {
   "cell_type": "code",
   "execution_count": null,
   "metadata": {},
   "outputs": [
    {
     "name": "stdout",
     "output_type": "stream",
     "text": [
      "{1: 1, 2: 4, 3: 9, 4: 16, 5: 25, 6: 36, 7: 49, 8: 64, 9: 81, 'tom': None}\n"
     ]
    }
   ],
   "source": [
    "ca2.setdefault(\"tom\")\n",
    "print(ca2)\n"
   ]
  },
  {
   "cell_type": "code",
   "execution_count": 68,
   "metadata": {},
   "outputs": [
    {
     "name": "stdout",
     "output_type": "stream",
     "text": [
      "{1: 1, 2: 4, 3: 9, 4: 16, 5: 25, 6: 36, 7: 49, 8: 64, 9: 81, 'tom': None, '123213': 'w3432'}\n"
     ]
    }
   ],
   "source": [
    "ca2[\"123213\"] = \"w3432\"\n",
    "print(ca2)"
   ]
  },
  {
   "cell_type": "code",
   "execution_count": 70,
   "metadata": {},
   "outputs": [
    {
     "name": "stdout",
     "output_type": "stream",
     "text": [
      "123\n"
     ]
    }
   ],
   "source": [
    "ca2.setdefault(\"123213\")\n",
    "\n",
    "print(ca2.get(\"233\",\"123\"))"
   ]
  },
  {
   "cell_type": "code",
   "execution_count": 71,
   "metadata": {},
   "outputs": [
    {
     "name": "stdout",
     "output_type": "stream",
     "text": [
      "[{'allen': {'name': 'allen', 'nickname': '', 'email': 'allen@123.com', 'phone': ['187', '137']}}, {'jack': {'name': 'jack', 'nickname': 'jackchen', 'email': 'jack@123.com', 'phone': ['187', '137']}}]\n"
     ]
    }
   ],
   "source": [
    "address_book=[{'allen':{'name':'allen','nickname':'','email':'allen@123.com','phone':['187','137']}},\n",
    "              {'jack':{'name':'jack','nickname':'jackchen','email':'jack@123.com','phone':['187','137']}}]\n",
    "print(address_book)\n",
    "\n"
   ]
  },
  {
   "cell_type": "code",
   "execution_count": 75,
   "metadata": {},
   "outputs": [
    {
     "name": "stdout",
     "output_type": "stream",
     "text": [
      "['About this Document\\n',\n",
      " 'Range of validity\\n',\n",
      " 'The present manual applies to S34U18 three phase smart meters.\\n',\n",
      " 'Target group\\n',\n",
      " 'The content of this manual is intended for technically qualified personnel '\n",
      " 'of energy supply \\n',\n",
      " 'companies, responsible for system planning, installation and commissioning, '\n",
      " 'operation, maintenance, \\n',\n",
      " 'decommissioning and disposal of meters.\\n',\n",
      " 'Purpose\\n',\n",
      " 'The manual contains the information of specification, to facilitate the '\n",
      " 'operation and maintenance of \\n',\n",
      " 'electricity meters according to this document.\\n',\n",
      " 'The Meter is designed and constructed in such a way as to avoid introducing '\n",
      " 'any danger to the meter \\n',\n",
      " 'in use and under normal conditions, so as to ensure specially personnel '\n",
      " 'safety against electric shock\\n',\n",
      " '\\n',\n",
      " 'Technical Manual of Meter of P34U86\\n',\n",
      " '21 / 93\\n',\n",
      " 'Address: No.16, Fengwan Road, Cicheng Town, Jiangbei District, Ningbo, '\n",
      " 'China, 315000\\n',\n",
      " 'Company: Ningbo Sanxing Electric Co., Ltd.\\n',\n",
      " 'Web: www.sanxingelectric.com\\n',\n",
      " 'The connecting wires at the place of installation must not be live when '\n",
      " 'removing the \\n',\n",
      " 'meter. Touching live parts is dangerous to life. The corresponding main '\n",
      " 'fuses should be \\n',\n",
      " 'removed and kept in a safe place until work is completed, so that they '\n",
      " 'cannot be replaced \\n',\n",
      " 'by anyone unnoticed.\\n',\n",
      " 'Remove the meter from the network as follows:\\n',\n",
      " '1 Turn off the load by using the meter breaker\\n',\n",
      " '2 Switch off the voltage and remove the fuses. The display goes off.\\n',\n",
      " '3 Open the sealing screw covers and remove the seals.\\n',\n",
      " '4 Release and remove the terminal cover.\\n',\n",
      " '5 Ensure with a phase checker that the connecting wires have no voltage. If '\n",
      " 'there is voltage, \\n',\n",
      " 'troubleshoots!\\n',\n",
      " '6 Remove the connecting wires of the inputs and outputs, if available.\\n',\n",
      " '7 Loosen the terminal screws of the phase and neutral connecting wires with '\n",
      " 'a suitable \\n',\n",
      " 'screwdriver and withdraw the wires from the terminals.\\n',\n",
      " '8 Unscrew and remove the meter']\n",
      "mode r\n"
     ]
    }
   ],
   "source": [
    "import pprint\n",
    "with open(\"./a.txt\") as f:\n",
    "    file_data = f.readlines()\n",
    "    pprint.pprint(file_data)\n",
    "    print(\"mode\",f.mode)"
   ]
  },
  {
   "cell_type": "code",
   "execution_count": 86,
   "metadata": {},
   "outputs": [
    {
     "name": "stdout",
     "output_type": "stream",
     "text": [
      "['About this Document\\n', 'Range of validity\\n', 'The present manual applies to S34U18 three phase smart meters.\\n', 'Target group\\n', 'The content of this manual is intended for technically qualified personnel of energy supply \\n', 'companies, responsible for system planning, installation and commissioning, operation, maintenance, \\n', 'decommissioning and disposal of meters.\\n', 'Purpose\\n', 'The manual contains the information of specification, to facilitate the operation and maintenance of \\n', 'electricity meters according to this document.\\n', 'The Meter is designed and constructed in such a way as to avoid introducing any danger to the meter \\n', 'in use and under normal conditions, so as to ensure specially personnel safety against electric shock\\n', '\\n', 'Technical Manual of Meter of P34U86\\n', '21 / 93\\n', 'Address: No.16, Fengwan Road, Cicheng Town, Jiangbei District, Ningbo, China, 315000\\n', 'Company: Ningbo Sanxing Electric Co., Ltd.\\n', 'Web: www.sanxingelectric.com\\n', 'The connecting wires at the place of installation must not be live when removing the \\n', 'meter. Touching live parts is dangerous to life. The corresponding main fuses should be \\n', 'removed and kept in a safe place until work is completed, so that they cannot be replaced \\n', 'by anyone unnoticed.\\n', 'Remove the meter from the network as follows:\\n', '1 Turn off the load by using the meter breaker\\n', '2 Switch off the voltage and remove the fuses. The display goes off.\\n', '3 Open the sealing screw covers and remove the seals.\\n', '4 Release and remove the terminal cover.\\n', '5 Ensure with a phase checker that the connecting wires have no voltage. If there is voltage, \\n', 'troubleshoots!\\n', '6 Remove the connecting wires of the inputs and outputs, if available.\\n', '7 Loosen the terminal screws of the phase and neutral connecting wires with a suitable \\n', 'screwdriver and withdraw the wires from the terminals.\\n', '8 Unscrew and remove the meter']\n",
      "1\n",
      "32\n"
     ]
    }
   ],
   "source": [
    "# 统计全部行数\n",
    "print(file_data)\n",
    "print(file_data.count(\"\\n\"))\n",
    "print(len(file_data)- file_data.count(\"\\n\"))"
   ]
  },
  {
   "cell_type": "code",
   "execution_count": null,
   "metadata": {},
   "outputs": [
    {
     "ename": "TypeError",
     "evalue": "unhashable type: 'dict'",
     "output_type": "error",
     "traceback": [
      "\u001b[1;31m---------------------------------------------------------------------------\u001b[0m",
      "\u001b[1;31mTypeError\u001b[0m                                 Traceback (most recent call last)",
      "Cell \u001b[1;32mIn[88], line 9\u001b[0m\n\u001b[0;32m      6\u001b[0m friend_2 \u001b[38;5;241m=\u001b[39m {\u001b[38;5;124m'\u001b[39m\u001b[38;5;124mname\u001b[39m\u001b[38;5;124m'\u001b[39m:file_data[\u001b[38;5;241m1\u001b[39m]\u001b[38;5;241m.\u001b[39msplit(\u001b[38;5;124m\"\u001b[39m\u001b[38;5;124m \u001b[39m\u001b[38;5;124m\"\u001b[39m)[\u001b[38;5;241m0\u001b[39m],\u001b[38;5;124m'\u001b[39m\u001b[38;5;124msource\u001b[39m\u001b[38;5;124m'\u001b[39m:file_data[\u001b[38;5;241m1\u001b[39m]\u001b[38;5;241m.\u001b[39msplit(\u001b[38;5;124m\"\u001b[39m\u001b[38;5;124m \u001b[39m\u001b[38;5;124m\"\u001b[39m)[\u001b[38;5;241m1\u001b[39m],\u001b[38;5;124m'\u001b[39m\u001b[38;5;124mtel\u001b[39m\u001b[38;5;124m'\u001b[39m:file_data[\u001b[38;5;241m1\u001b[39m]\u001b[38;5;241m.\u001b[39msplit(\u001b[38;5;124m\"\u001b[39m\u001b[38;5;124m \u001b[39m\u001b[38;5;124m\"\u001b[39m)[\u001b[38;5;241m2\u001b[39m]\u001b[38;5;241m.\u001b[39mstrip()}\n\u001b[0;32m      7\u001b[0m friend_3 \u001b[38;5;241m=\u001b[39m {\u001b[38;5;124m'\u001b[39m\u001b[38;5;124mname\u001b[39m\u001b[38;5;124m'\u001b[39m:file_data[\u001b[38;5;241m2\u001b[39m]\u001b[38;5;241m.\u001b[39msplit(\u001b[38;5;124m\"\u001b[39m\u001b[38;5;124m \u001b[39m\u001b[38;5;124m\"\u001b[39m)[\u001b[38;5;241m0\u001b[39m],\u001b[38;5;124m'\u001b[39m\u001b[38;5;124msource\u001b[39m\u001b[38;5;124m'\u001b[39m:file_data[\u001b[38;5;241m2\u001b[39m]\u001b[38;5;241m.\u001b[39msplit(\u001b[38;5;124m\"\u001b[39m\u001b[38;5;124m \u001b[39m\u001b[38;5;124m\"\u001b[39m)[\u001b[38;5;241m1\u001b[39m],\u001b[38;5;124m'\u001b[39m\u001b[38;5;124mtel\u001b[39m\u001b[38;5;124m'\u001b[39m:file_data[\u001b[38;5;241m2\u001b[39m]\u001b[38;5;241m.\u001b[39msplit(\u001b[38;5;124m\"\u001b[39m\u001b[38;5;124m \u001b[39m\u001b[38;5;124m\"\u001b[39m)[\u001b[38;5;241m2\u001b[39m]\u001b[38;5;241m.\u001b[39mstrip()}\n\u001b[1;32m----> 9\u001b[0m db\u001b[38;5;241m.\u001b[39minsert_multiple({\n\u001b[0;32m     10\u001b[0m     friend_1,\n\u001b[0;32m     11\u001b[0m     friend_2,\n\u001b[0;32m     12\u001b[0m     friend_3\n\u001b[0;32m     13\u001b[0m })\n",
      "\u001b[1;31mTypeError\u001b[0m: unhashable type: 'dict'"
     ]
    }
   ],
   "source": [
    "from tinydb import TinyDB\n",
    "\n",
    "db = TinyDB('./db.json')\n",
    "\n",
    "friend_1 = {'name':file_data[0].split(\" \")[0],'source':file_data[0].split(\" \")[1],'tel':file_data[0].split(\" \")[2].strip()}\n",
    "friend_2 = {'name':file_data[1].split(\" \")[0],'source':file_data[1].split(\" \")[1],'tel':file_data[1].split(\" \")[2].strip()}\n",
    "friend_3 = {'name':file_data[2].split(\" \")[0],'source':file_data[2].split(\" \")[1],'tel':file_data[2].split(\" \")[2].strip()}\n",
    "\n",
    "db.insert_multiple({\n",
    "    friend_1,\n",
    "    friend_2,\n",
    "    friend_3\n",
    "})\n",
    "\n"
   ]
  }
 ],
 "metadata": {
  "kernelspec": {
   "display_name": "Python 3",
   "language": "python",
   "name": "python3"
  },
  "language_info": {
   "codemirror_mode": {
    "name": "ipython",
    "version": 3
   },
   "file_extension": ".py",
   "mimetype": "text/x-python",
   "name": "python",
   "nbconvert_exporter": "python",
   "pygments_lexer": "ipython3",
   "version": "3.12.1"
  }
 },
 "nbformat": 4,
 "nbformat_minor": 2
}
